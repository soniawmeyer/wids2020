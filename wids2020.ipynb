{
 "cells": [
  {
   "cell_type": "markdown",
   "metadata": {
    "colab_type": "text",
    "id": "FgfMRJGSGqTh"
   },
   "source": [
    "# WIDS 2020 Datathon\n",
    "#### San Jose State University Team - Sonia Meyer, Emma Hendry\n",
    "\n",
    "\n",
    "The following cells import modules, read data from csv files, and provide an overview of data."
   ]
  },
  {
   "cell_type": "code",
   "execution_count": 0,
   "metadata": {
    "colab": {},
    "colab_type": "code",
    "id": "cgTW0imaGqTi"
   },
   "outputs": [],
   "source": [
    "import pandas as pd\n",
    "import plotly.express as px\n",
    "import matplotlib.pyplot as plt\n",
    "import numpy as np\n",
    "from sklearn.impute import SimpleImputer\n",
    "from sklearn.ensemble import RandomForestClassifier,GradientBoostingClassifier ,AdaBoostClassifier\n",
    "from sklearn import preprocessing\n",
    "from sklearn.linear_model import LogisticRegression\n",
    "from sklearn.metrics import confusion_matrix, accuracy_score\n",
    "from sklearn.model_selection import cross_val_score, train_test_split\n",
    "from sklearn.metrics import roc_curve, roc_auc_score"
   ]
  },
  {
   "cell_type": "code",
   "execution_count": 0,
   "metadata": {
    "colab": {},
    "colab_type": "code",
    "id": "FGE_srA4GqTk",
    "outputId": "3bb8f924-2603-4df3-d306-5de789e00e1e"
   },
   "outputs": [
    {
     "data": {
      "text/plain": [
       "(91713, 186)"
      ]
     },
     "execution_count": 2,
     "metadata": {
      "tags": []
     },
     "output_type": "execute_result"
    }
   ],
   "source": [
    "training_data = pd.read_csv(\"training_v2.csv\")\n",
    "training_data.shape"
   ]
  },
  {
   "cell_type": "code",
   "execution_count": 0,
   "metadata": {
    "colab": {},
    "colab_type": "code",
    "id": "PqVavhGUGqTm",
    "outputId": "c834b82c-2797-4db8-c880-604061c172f5"
   },
   "outputs": [
    {
     "data": {
      "text/plain": [
       "(39308, 186)"
      ]
     },
     "execution_count": 3,
     "metadata": {
      "tags": []
     },
     "output_type": "execute_result"
    }
   ],
   "source": [
    "unlabeled_data = pd.read_csv(\"unlabeled.csv\")\n",
    "unlabeled_data.shape"
   ]
  },
  {
   "cell_type": "code",
   "execution_count": 0,
   "metadata": {
    "colab": {},
    "colab_type": "code",
    "id": "5nrAuifkGqTo",
    "outputId": "d7df44dc-e9cc-40f6-bf98-aa9c71bff631"
   },
   "outputs": [
    {
     "data": {
      "text/plain": [
       "(91713, 186)"
      ]
     },
     "execution_count": 4,
     "metadata": {
      "tags": []
     },
     "output_type": "execute_result"
    }
   ],
   "source": [
    "data_dict = pd.read_csv(\"WiDS Datathon 2020 Dictionary.csv\")\n",
    "training_data.shape"
   ]
  },
  {
   "cell_type": "code",
   "execution_count": 0,
   "metadata": {
    "colab": {},
    "colab_type": "code",
    "id": "ohFcj8J7GqTq",
    "outputId": "fde8a42c-1671-412c-e6bf-bebd2721f2fd"
   },
   "outputs": [
    {
     "data": {
      "text/html": [
       "<div>\n",
       "<style scoped>\n",
       "    .dataframe tbody tr th:only-of-type {\n",
       "        vertical-align: middle;\n",
       "    }\n",
       "\n",
       "    .dataframe tbody tr th {\n",
       "        vertical-align: top;\n",
       "    }\n",
       "\n",
       "    .dataframe thead th {\n",
       "        text-align: right;\n",
       "    }\n",
       "</style>\n",
       "<table border=\"1\" class=\"dataframe\">\n",
       "  <thead>\n",
       "    <tr style=\"text-align: right;\">\n",
       "      <th></th>\n",
       "      <th>encounter_id</th>\n",
       "      <th>patient_id</th>\n",
       "      <th>hospital_id</th>\n",
       "      <th>hospital_death</th>\n",
       "      <th>age</th>\n",
       "      <th>bmi</th>\n",
       "      <th>elective_surgery</th>\n",
       "      <th>ethnicity</th>\n",
       "      <th>gender</th>\n",
       "      <th>height</th>\n",
       "      <th>...</th>\n",
       "      <th>aids</th>\n",
       "      <th>cirrhosis</th>\n",
       "      <th>diabetes_mellitus</th>\n",
       "      <th>hepatic_failure</th>\n",
       "      <th>immunosuppression</th>\n",
       "      <th>leukemia</th>\n",
       "      <th>lymphoma</th>\n",
       "      <th>solid_tumor_with_metastasis</th>\n",
       "      <th>apache_3j_bodysystem</th>\n",
       "      <th>apache_2_bodysystem</th>\n",
       "    </tr>\n",
       "  </thead>\n",
       "  <tbody>\n",
       "    <tr>\n",
       "      <th>0</th>\n",
       "      <td>66154</td>\n",
       "      <td>25312</td>\n",
       "      <td>118</td>\n",
       "      <td>0</td>\n",
       "      <td>68.0</td>\n",
       "      <td>22.73</td>\n",
       "      <td>0</td>\n",
       "      <td>Caucasian</td>\n",
       "      <td>M</td>\n",
       "      <td>180.3</td>\n",
       "      <td>...</td>\n",
       "      <td>0.0</td>\n",
       "      <td>0.0</td>\n",
       "      <td>1.0</td>\n",
       "      <td>0.0</td>\n",
       "      <td>0.0</td>\n",
       "      <td>0.0</td>\n",
       "      <td>0.0</td>\n",
       "      <td>0.0</td>\n",
       "      <td>Sepsis</td>\n",
       "      <td>Cardiovascular</td>\n",
       "    </tr>\n",
       "    <tr>\n",
       "      <th>1</th>\n",
       "      <td>114252</td>\n",
       "      <td>59342</td>\n",
       "      <td>81</td>\n",
       "      <td>0</td>\n",
       "      <td>77.0</td>\n",
       "      <td>27.42</td>\n",
       "      <td>0</td>\n",
       "      <td>Caucasian</td>\n",
       "      <td>F</td>\n",
       "      <td>160.0</td>\n",
       "      <td>...</td>\n",
       "      <td>0.0</td>\n",
       "      <td>0.0</td>\n",
       "      <td>1.0</td>\n",
       "      <td>0.0</td>\n",
       "      <td>0.0</td>\n",
       "      <td>0.0</td>\n",
       "      <td>0.0</td>\n",
       "      <td>0.0</td>\n",
       "      <td>Respiratory</td>\n",
       "      <td>Respiratory</td>\n",
       "    </tr>\n",
       "    <tr>\n",
       "      <th>2</th>\n",
       "      <td>119783</td>\n",
       "      <td>50777</td>\n",
       "      <td>118</td>\n",
       "      <td>0</td>\n",
       "      <td>25.0</td>\n",
       "      <td>31.95</td>\n",
       "      <td>0</td>\n",
       "      <td>Caucasian</td>\n",
       "      <td>F</td>\n",
       "      <td>172.7</td>\n",
       "      <td>...</td>\n",
       "      <td>0.0</td>\n",
       "      <td>0.0</td>\n",
       "      <td>0.0</td>\n",
       "      <td>0.0</td>\n",
       "      <td>0.0</td>\n",
       "      <td>0.0</td>\n",
       "      <td>0.0</td>\n",
       "      <td>0.0</td>\n",
       "      <td>Metabolic</td>\n",
       "      <td>Metabolic</td>\n",
       "    </tr>\n",
       "    <tr>\n",
       "      <th>3</th>\n",
       "      <td>79267</td>\n",
       "      <td>46918</td>\n",
       "      <td>118</td>\n",
       "      <td>0</td>\n",
       "      <td>81.0</td>\n",
       "      <td>22.64</td>\n",
       "      <td>1</td>\n",
       "      <td>Caucasian</td>\n",
       "      <td>F</td>\n",
       "      <td>165.1</td>\n",
       "      <td>...</td>\n",
       "      <td>0.0</td>\n",
       "      <td>0.0</td>\n",
       "      <td>0.0</td>\n",
       "      <td>0.0</td>\n",
       "      <td>0.0</td>\n",
       "      <td>0.0</td>\n",
       "      <td>0.0</td>\n",
       "      <td>0.0</td>\n",
       "      <td>Cardiovascular</td>\n",
       "      <td>Cardiovascular</td>\n",
       "    </tr>\n",
       "    <tr>\n",
       "      <th>4</th>\n",
       "      <td>92056</td>\n",
       "      <td>34377</td>\n",
       "      <td>33</td>\n",
       "      <td>0</td>\n",
       "      <td>19.0</td>\n",
       "      <td>NaN</td>\n",
       "      <td>0</td>\n",
       "      <td>Caucasian</td>\n",
       "      <td>M</td>\n",
       "      <td>188.0</td>\n",
       "      <td>...</td>\n",
       "      <td>0.0</td>\n",
       "      <td>0.0</td>\n",
       "      <td>0.0</td>\n",
       "      <td>0.0</td>\n",
       "      <td>0.0</td>\n",
       "      <td>0.0</td>\n",
       "      <td>0.0</td>\n",
       "      <td>0.0</td>\n",
       "      <td>Trauma</td>\n",
       "      <td>Trauma</td>\n",
       "    </tr>\n",
       "  </tbody>\n",
       "</table>\n",
       "<p>5 rows × 186 columns</p>\n",
       "</div>"
      ],
      "text/plain": [
       "   encounter_id  patient_id  hospital_id  hospital_death   age    bmi  \\\n",
       "0         66154       25312          118               0  68.0  22.73   \n",
       "1        114252       59342           81               0  77.0  27.42   \n",
       "2        119783       50777          118               0  25.0  31.95   \n",
       "3         79267       46918          118               0  81.0  22.64   \n",
       "4         92056       34377           33               0  19.0    NaN   \n",
       "\n",
       "   elective_surgery  ethnicity gender  height  ... aids cirrhosis  \\\n",
       "0                 0  Caucasian      M   180.3  ...  0.0       0.0   \n",
       "1                 0  Caucasian      F   160.0  ...  0.0       0.0   \n",
       "2                 0  Caucasian      F   172.7  ...  0.0       0.0   \n",
       "3                 1  Caucasian      F   165.1  ...  0.0       0.0   \n",
       "4                 0  Caucasian      M   188.0  ...  0.0       0.0   \n",
       "\n",
       "   diabetes_mellitus hepatic_failure immunosuppression  leukemia  lymphoma  \\\n",
       "0                1.0             0.0               0.0       0.0       0.0   \n",
       "1                1.0             0.0               0.0       0.0       0.0   \n",
       "2                0.0             0.0               0.0       0.0       0.0   \n",
       "3                0.0             0.0               0.0       0.0       0.0   \n",
       "4                0.0             0.0               0.0       0.0       0.0   \n",
       "\n",
       "   solid_tumor_with_metastasis  apache_3j_bodysystem  apache_2_bodysystem  \n",
       "0                          0.0                Sepsis       Cardiovascular  \n",
       "1                          0.0           Respiratory          Respiratory  \n",
       "2                          0.0             Metabolic            Metabolic  \n",
       "3                          0.0        Cardiovascular       Cardiovascular  \n",
       "4                          0.0                Trauma               Trauma  \n",
       "\n",
       "[5 rows x 186 columns]"
      ]
     },
     "execution_count": 5,
     "metadata": {
      "tags": []
     },
     "output_type": "execute_result"
    }
   ],
   "source": [
    "training_data.head()"
   ]
  },
  {
   "cell_type": "code",
   "execution_count": 0,
   "metadata": {
    "colab": {},
    "colab_type": "code",
    "id": "CoWcw0HJGqTs",
    "outputId": "72159047-af81-4729-eb37-40c0a1315589",
    "scrolled": true
   },
   "outputs": [
    {
     "data": {
      "text/html": [
       "<div>\n",
       "<style scoped>\n",
       "    .dataframe tbody tr th:only-of-type {\n",
       "        vertical-align: middle;\n",
       "    }\n",
       "\n",
       "    .dataframe tbody tr th {\n",
       "        vertical-align: top;\n",
       "    }\n",
       "\n",
       "    .dataframe thead th {\n",
       "        text-align: right;\n",
       "    }\n",
       "</style>\n",
       "<table border=\"1\" class=\"dataframe\">\n",
       "  <thead>\n",
       "    <tr style=\"text-align: right;\">\n",
       "      <th></th>\n",
       "      <th>encounter_id</th>\n",
       "      <th>patient_id</th>\n",
       "      <th>hospital_id</th>\n",
       "      <th>hospital_death</th>\n",
       "      <th>age</th>\n",
       "      <th>bmi</th>\n",
       "      <th>elective_surgery</th>\n",
       "      <th>height</th>\n",
       "      <th>icu_id</th>\n",
       "      <th>pre_icu_los_days</th>\n",
       "      <th>...</th>\n",
       "      <th>apache_4a_hospital_death_prob</th>\n",
       "      <th>apache_4a_icu_death_prob</th>\n",
       "      <th>aids</th>\n",
       "      <th>cirrhosis</th>\n",
       "      <th>diabetes_mellitus</th>\n",
       "      <th>hepatic_failure</th>\n",
       "      <th>immunosuppression</th>\n",
       "      <th>leukemia</th>\n",
       "      <th>lymphoma</th>\n",
       "      <th>solid_tumor_with_metastasis</th>\n",
       "    </tr>\n",
       "  </thead>\n",
       "  <tbody>\n",
       "    <tr>\n",
       "      <th>count</th>\n",
       "      <td>91713.000000</td>\n",
       "      <td>91713.000000</td>\n",
       "      <td>91713.000000</td>\n",
       "      <td>91713.000000</td>\n",
       "      <td>87485.000000</td>\n",
       "      <td>88284.000000</td>\n",
       "      <td>91713.000000</td>\n",
       "      <td>90379.000000</td>\n",
       "      <td>91713.000000</td>\n",
       "      <td>91713.000000</td>\n",
       "      <td>...</td>\n",
       "      <td>83766.000000</td>\n",
       "      <td>83766.000000</td>\n",
       "      <td>90998.000000</td>\n",
       "      <td>90998.000000</td>\n",
       "      <td>90998.000000</td>\n",
       "      <td>90998.000000</td>\n",
       "      <td>90998.000000</td>\n",
       "      <td>90998.000000</td>\n",
       "      <td>90998.000000</td>\n",
       "      <td>90998.000000</td>\n",
       "    </tr>\n",
       "    <tr>\n",
       "      <th>mean</th>\n",
       "      <td>65606.079280</td>\n",
       "      <td>65537.131464</td>\n",
       "      <td>105.669262</td>\n",
       "      <td>0.086302</td>\n",
       "      <td>62.309516</td>\n",
       "      <td>29.185818</td>\n",
       "      <td>0.183736</td>\n",
       "      <td>169.641588</td>\n",
       "      <td>508.357692</td>\n",
       "      <td>0.835766</td>\n",
       "      <td>...</td>\n",
       "      <td>0.086787</td>\n",
       "      <td>0.043955</td>\n",
       "      <td>0.000857</td>\n",
       "      <td>0.015693</td>\n",
       "      <td>0.225192</td>\n",
       "      <td>0.012989</td>\n",
       "      <td>0.026165</td>\n",
       "      <td>0.007066</td>\n",
       "      <td>0.004132</td>\n",
       "      <td>0.020638</td>\n",
       "    </tr>\n",
       "    <tr>\n",
       "      <th>std</th>\n",
       "      <td>37795.088538</td>\n",
       "      <td>37811.252183</td>\n",
       "      <td>62.854406</td>\n",
       "      <td>0.280811</td>\n",
       "      <td>16.775119</td>\n",
       "      <td>8.275142</td>\n",
       "      <td>0.387271</td>\n",
       "      <td>10.795378</td>\n",
       "      <td>228.989661</td>\n",
       "      <td>2.487756</td>\n",
       "      <td>...</td>\n",
       "      <td>0.247569</td>\n",
       "      <td>0.217341</td>\n",
       "      <td>0.029265</td>\n",
       "      <td>0.124284</td>\n",
       "      <td>0.417711</td>\n",
       "      <td>0.113229</td>\n",
       "      <td>0.159628</td>\n",
       "      <td>0.083763</td>\n",
       "      <td>0.064148</td>\n",
       "      <td>0.142169</td>\n",
       "    </tr>\n",
       "    <tr>\n",
       "      <th>min</th>\n",
       "      <td>1.000000</td>\n",
       "      <td>1.000000</td>\n",
       "      <td>2.000000</td>\n",
       "      <td>0.000000</td>\n",
       "      <td>16.000000</td>\n",
       "      <td>14.844926</td>\n",
       "      <td>0.000000</td>\n",
       "      <td>137.200000</td>\n",
       "      <td>82.000000</td>\n",
       "      <td>-24.947222</td>\n",
       "      <td>...</td>\n",
       "      <td>-1.000000</td>\n",
       "      <td>-1.000000</td>\n",
       "      <td>0.000000</td>\n",
       "      <td>0.000000</td>\n",
       "      <td>0.000000</td>\n",
       "      <td>0.000000</td>\n",
       "      <td>0.000000</td>\n",
       "      <td>0.000000</td>\n",
       "      <td>0.000000</td>\n",
       "      <td>0.000000</td>\n",
       "    </tr>\n",
       "    <tr>\n",
       "      <th>25%</th>\n",
       "      <td>32852.000000</td>\n",
       "      <td>32830.000000</td>\n",
       "      <td>47.000000</td>\n",
       "      <td>0.000000</td>\n",
       "      <td>52.000000</td>\n",
       "      <td>23.641975</td>\n",
       "      <td>0.000000</td>\n",
       "      <td>162.500000</td>\n",
       "      <td>369.000000</td>\n",
       "      <td>0.035417</td>\n",
       "      <td>...</td>\n",
       "      <td>0.020000</td>\n",
       "      <td>0.010000</td>\n",
       "      <td>0.000000</td>\n",
       "      <td>0.000000</td>\n",
       "      <td>0.000000</td>\n",
       "      <td>0.000000</td>\n",
       "      <td>0.000000</td>\n",
       "      <td>0.000000</td>\n",
       "      <td>0.000000</td>\n",
       "      <td>0.000000</td>\n",
       "    </tr>\n",
       "    <tr>\n",
       "      <th>50%</th>\n",
       "      <td>65665.000000</td>\n",
       "      <td>65413.000000</td>\n",
       "      <td>109.000000</td>\n",
       "      <td>0.000000</td>\n",
       "      <td>65.000000</td>\n",
       "      <td>27.654655</td>\n",
       "      <td>0.000000</td>\n",
       "      <td>170.100000</td>\n",
       "      <td>504.000000</td>\n",
       "      <td>0.138889</td>\n",
       "      <td>...</td>\n",
       "      <td>0.050000</td>\n",
       "      <td>0.020000</td>\n",
       "      <td>0.000000</td>\n",
       "      <td>0.000000</td>\n",
       "      <td>0.000000</td>\n",
       "      <td>0.000000</td>\n",
       "      <td>0.000000</td>\n",
       "      <td>0.000000</td>\n",
       "      <td>0.000000</td>\n",
       "      <td>0.000000</td>\n",
       "    </tr>\n",
       "    <tr>\n",
       "      <th>75%</th>\n",
       "      <td>98342.000000</td>\n",
       "      <td>98298.000000</td>\n",
       "      <td>161.000000</td>\n",
       "      <td>0.000000</td>\n",
       "      <td>75.000000</td>\n",
       "      <td>32.930206</td>\n",
       "      <td>0.000000</td>\n",
       "      <td>177.800000</td>\n",
       "      <td>679.000000</td>\n",
       "      <td>0.409028</td>\n",
       "      <td>...</td>\n",
       "      <td>0.130000</td>\n",
       "      <td>0.060000</td>\n",
       "      <td>0.000000</td>\n",
       "      <td>0.000000</td>\n",
       "      <td>0.000000</td>\n",
       "      <td>0.000000</td>\n",
       "      <td>0.000000</td>\n",
       "      <td>0.000000</td>\n",
       "      <td>0.000000</td>\n",
       "      <td>0.000000</td>\n",
       "    </tr>\n",
       "    <tr>\n",
       "      <th>max</th>\n",
       "      <td>131051.000000</td>\n",
       "      <td>131051.000000</td>\n",
       "      <td>204.000000</td>\n",
       "      <td>1.000000</td>\n",
       "      <td>89.000000</td>\n",
       "      <td>67.814990</td>\n",
       "      <td>1.000000</td>\n",
       "      <td>195.590000</td>\n",
       "      <td>927.000000</td>\n",
       "      <td>159.090972</td>\n",
       "      <td>...</td>\n",
       "      <td>0.990000</td>\n",
       "      <td>0.970000</td>\n",
       "      <td>1.000000</td>\n",
       "      <td>1.000000</td>\n",
       "      <td>1.000000</td>\n",
       "      <td>1.000000</td>\n",
       "      <td>1.000000</td>\n",
       "      <td>1.000000</td>\n",
       "      <td>1.000000</td>\n",
       "      <td>1.000000</td>\n",
       "    </tr>\n",
       "  </tbody>\n",
       "</table>\n",
       "<p>8 rows × 178 columns</p>\n",
       "</div>"
      ],
      "text/plain": [
       "        encounter_id     patient_id   hospital_id  hospital_death  \\\n",
       "count   91713.000000   91713.000000  91713.000000    91713.000000   \n",
       "mean    65606.079280   65537.131464    105.669262        0.086302   \n",
       "std     37795.088538   37811.252183     62.854406        0.280811   \n",
       "min         1.000000       1.000000      2.000000        0.000000   \n",
       "25%     32852.000000   32830.000000     47.000000        0.000000   \n",
       "50%     65665.000000   65413.000000    109.000000        0.000000   \n",
       "75%     98342.000000   98298.000000    161.000000        0.000000   \n",
       "max    131051.000000  131051.000000    204.000000        1.000000   \n",
       "\n",
       "                age           bmi  elective_surgery        height  \\\n",
       "count  87485.000000  88284.000000      91713.000000  90379.000000   \n",
       "mean      62.309516     29.185818          0.183736    169.641588   \n",
       "std       16.775119      8.275142          0.387271     10.795378   \n",
       "min       16.000000     14.844926          0.000000    137.200000   \n",
       "25%       52.000000     23.641975          0.000000    162.500000   \n",
       "50%       65.000000     27.654655          0.000000    170.100000   \n",
       "75%       75.000000     32.930206          0.000000    177.800000   \n",
       "max       89.000000     67.814990          1.000000    195.590000   \n",
       "\n",
       "             icu_id  pre_icu_los_days  ...  apache_4a_hospital_death_prob  \\\n",
       "count  91713.000000      91713.000000  ...                   83766.000000   \n",
       "mean     508.357692          0.835766  ...                       0.086787   \n",
       "std      228.989661          2.487756  ...                       0.247569   \n",
       "min       82.000000        -24.947222  ...                      -1.000000   \n",
       "25%      369.000000          0.035417  ...                       0.020000   \n",
       "50%      504.000000          0.138889  ...                       0.050000   \n",
       "75%      679.000000          0.409028  ...                       0.130000   \n",
       "max      927.000000        159.090972  ...                       0.990000   \n",
       "\n",
       "       apache_4a_icu_death_prob          aids     cirrhosis  \\\n",
       "count              83766.000000  90998.000000  90998.000000   \n",
       "mean                   0.043955      0.000857      0.015693   \n",
       "std                    0.217341      0.029265      0.124284   \n",
       "min                   -1.000000      0.000000      0.000000   \n",
       "25%                    0.010000      0.000000      0.000000   \n",
       "50%                    0.020000      0.000000      0.000000   \n",
       "75%                    0.060000      0.000000      0.000000   \n",
       "max                    0.970000      1.000000      1.000000   \n",
       "\n",
       "       diabetes_mellitus  hepatic_failure  immunosuppression      leukemia  \\\n",
       "count       90998.000000     90998.000000       90998.000000  90998.000000   \n",
       "mean            0.225192         0.012989           0.026165      0.007066   \n",
       "std             0.417711         0.113229           0.159628      0.083763   \n",
       "min             0.000000         0.000000           0.000000      0.000000   \n",
       "25%             0.000000         0.000000           0.000000      0.000000   \n",
       "50%             0.000000         0.000000           0.000000      0.000000   \n",
       "75%             0.000000         0.000000           0.000000      0.000000   \n",
       "max             1.000000         1.000000           1.000000      1.000000   \n",
       "\n",
       "           lymphoma  solid_tumor_with_metastasis  \n",
       "count  90998.000000                 90998.000000  \n",
       "mean       0.004132                     0.020638  \n",
       "std        0.064148                     0.142169  \n",
       "min        0.000000                     0.000000  \n",
       "25%        0.000000                     0.000000  \n",
       "50%        0.000000                     0.000000  \n",
       "75%        0.000000                     0.000000  \n",
       "max        1.000000                     1.000000  \n",
       "\n",
       "[8 rows x 178 columns]"
      ]
     },
     "execution_count": 6,
     "metadata": {
      "tags": []
     },
     "output_type": "execute_result"
    }
   ],
   "source": [
    "training_data.describe()"
   ]
  },
  {
   "cell_type": "markdown",
   "metadata": {
    "colab_type": "text",
    "id": "zROao88pGqTu"
   },
   "source": [
    "The following cells handle columns with missing values. The threshold is set to 75%. It removes these columns as well as zero importance data like IDs."
   ]
  },
  {
   "cell_type": "code",
   "execution_count": 0,
   "metadata": {
    "colab": {},
    "colab_type": "code",
    "id": "TDyW78wgGqTu"
   },
   "outputs": [],
   "source": [
    "#handling missing values - drop columns with more than 75% values missing\n",
    "\n",
    "missing_values = training_data.notna()\n",
    "column_headers = []\n",
    "column_percentage = []\n",
    "\n",
    "#create two lists, one of column headers, one of not null percentages\n",
    "for column in missing_values:\n",
    "    column_headers.append(column)\n",
    "    column_contents = missing_values[column].values\n",
    "    not_na_percentage = round(sum(column_contents)/len(column_contents),2)\n",
    "    column_percentage.append(not_na_percentage)\n",
    "\n",
    "#create dict of two lists\n",
    "missing_dict = dict(zip(column_headers, column_percentage))\n",
    "\n",
    "#create list of values less than 0.75\n",
    "remove_columns = []\n",
    "for key, value in missing_dict.items():\n",
    "    if value <= 0.75:\n",
    "        remove_columns.append(key)"
   ]
  },
  {
   "cell_type": "code",
   "execution_count": 0,
   "metadata": {
    "colab": {},
    "colab_type": "code",
    "id": "KAO5zuRxGqTw",
    "outputId": "d45dce30-1ec6-4699-bc2b-b61c09611975"
   },
   "outputs": [
    {
     "name": "stdout",
     "output_type": "stream",
     "text": [
      "number of columns to be removed: 81\n"
     ]
    }
   ],
   "source": [
    "ignore_variables = ['readmission_status','encounter_id', 'patient_id',\n",
    "                   'icu_id','hospital_id', 'apache_4a_hospital_death_prob', \n",
    "                    'apache_4a_icu_death_prob']\n",
    "ignore_variables.extend(remove_columns)\n",
    "\n",
    "print('number of columns to be removed:', len(ignore_variables))"
   ]
  },
  {
   "cell_type": "code",
   "execution_count": 0,
   "metadata": {
    "colab": {},
    "colab_type": "code",
    "id": "NQDQIf4HGqTy"
   },
   "outputs": [],
   "source": [
    "for variable in ignore_variables:\n",
    "    training_data.drop(variable, axis=1, inplace=True)"
   ]
  },
  {
   "cell_type": "code",
   "execution_count": 0,
   "metadata": {
    "colab": {},
    "colab_type": "code",
    "id": "nHld4WncGqT0",
    "outputId": "aa0c0052-3014-4cef-a86b-dc29ba019cde"
   },
   "outputs": [
    {
     "data": {
      "text/plain": [
       "(91713, 105)"
      ]
     },
     "execution_count": 10,
     "metadata": {
      "tags": []
     },
     "output_type": "execute_result"
    }
   ],
   "source": [
    "training_data.shape"
   ]
  },
  {
   "cell_type": "code",
   "execution_count": 0,
   "metadata": {
    "colab": {},
    "colab_type": "code",
    "id": "0gFSYuExGqT2",
    "outputId": "c4b0f9a9-ce9a-4df8-c33d-d40f9de8bfc4"
   },
   "outputs": [
    {
     "data": {
      "text/plain": [
       "wbc_apache               69701\n",
       "h1_temp_max              69981\n",
       "h1_temp_min              69981\n",
       "hospital_admit_source    70304\n",
       "hematocrit_apache        71835\n",
       "bun_apache               72451\n",
       "creatinine_apache        72860\n",
       "sodium_apache            73113\n",
       "d1_hco3_min              76642\n",
       "d1_hco3_max              76642\n",
       "d1_platelets_min         78269\n",
       "d1_platelets_max         78269\n",
       "d1_wbc_min               78539\n",
       "d1_wbc_max               78539\n",
       "d1_calcium_max           78644\n",
       "d1_calcium_min           78644\n",
       "d1_hemaglobin_max        79566\n",
       "d1_hemaglobin_min        79566\n",
       "d1_hematocrit_max        80059\n",
       "d1_hematocrit_min        80059\n",
       "dtype: int64"
      ]
     },
     "execution_count": 11,
     "metadata": {
      "tags": []
     },
     "output_type": "execute_result"
    }
   ],
   "source": [
    "counts = training_data.count()\n",
    "counts.sort_values(ascending=True).head(20)\n",
    "#confirms missing values variables are removed"
   ]
  },
  {
   "cell_type": "markdown",
   "metadata": {
    "colab_type": "text",
    "id": "LG7VVGPZGqT4"
   },
   "source": [
    "The following cells remove colinear variables."
   ]
  },
  {
   "cell_type": "code",
   "execution_count": 0,
   "metadata": {
    "colab": {},
    "colab_type": "code",
    "id": "LpbA5XkPGqT4",
    "outputId": "cd612af3-77d9-483f-b7da-395b3d7cb986"
   },
   "outputs": [
    {
     "data": {
      "text/html": [
       "<div>\n",
       "<style scoped>\n",
       "    .dataframe tbody tr th:only-of-type {\n",
       "        vertical-align: middle;\n",
       "    }\n",
       "\n",
       "    .dataframe tbody tr th {\n",
       "        vertical-align: top;\n",
       "    }\n",
       "\n",
       "    .dataframe thead th {\n",
       "        text-align: right;\n",
       "    }\n",
       "</style>\n",
       "<table border=\"1\" class=\"dataframe\">\n",
       "  <thead>\n",
       "    <tr style=\"text-align: right;\">\n",
       "      <th></th>\n",
       "      <th>hospital_death</th>\n",
       "      <th>age</th>\n",
       "      <th>bmi</th>\n",
       "      <th>elective_surgery</th>\n",
       "      <th>height</th>\n",
       "      <th>pre_icu_los_days</th>\n",
       "      <th>weight</th>\n",
       "      <th>apache_2_diagnosis</th>\n",
       "      <th>apache_3j_diagnosis</th>\n",
       "      <th>apache_post_operative</th>\n",
       "      <th>...</th>\n",
       "      <th>d1_wbc_max</th>\n",
       "      <th>d1_wbc_min</th>\n",
       "      <th>aids</th>\n",
       "      <th>cirrhosis</th>\n",
       "      <th>diabetes_mellitus</th>\n",
       "      <th>hepatic_failure</th>\n",
       "      <th>immunosuppression</th>\n",
       "      <th>leukemia</th>\n",
       "      <th>lymphoma</th>\n",
       "      <th>solid_tumor_with_metastasis</th>\n",
       "    </tr>\n",
       "  </thead>\n",
       "  <tbody>\n",
       "    <tr>\n",
       "      <th>hospital_death</th>\n",
       "      <td>1.000000</td>\n",
       "      <td>0.111017</td>\n",
       "      <td>0.031247</td>\n",
       "      <td>0.093574</td>\n",
       "      <td>0.019526</td>\n",
       "      <td>0.063316</td>\n",
       "      <td>0.038362</td>\n",
       "      <td>0.089862</td>\n",
       "      <td>0.090715</td>\n",
       "      <td>0.083674</td>\n",
       "      <td>...</td>\n",
       "      <td>0.143862</td>\n",
       "      <td>0.121420</td>\n",
       "      <td>0.004403</td>\n",
       "      <td>0.039453</td>\n",
       "      <td>0.015784</td>\n",
       "      <td>0.038864</td>\n",
       "      <td>0.043973</td>\n",
       "      <td>0.029788</td>\n",
       "      <td>0.018722</td>\n",
       "      <td>0.051105</td>\n",
       "    </tr>\n",
       "    <tr>\n",
       "      <th>age</th>\n",
       "      <td>0.111017</td>\n",
       "      <td>1.000000</td>\n",
       "      <td>0.087077</td>\n",
       "      <td>0.067320</td>\n",
       "      <td>0.109937</td>\n",
       "      <td>0.049872</td>\n",
       "      <td>0.127252</td>\n",
       "      <td>0.022914</td>\n",
       "      <td>0.056060</td>\n",
       "      <td>0.059246</td>\n",
       "      <td>...</td>\n",
       "      <td>0.003009</td>\n",
       "      <td>0.001538</td>\n",
       "      <td>0.029477</td>\n",
       "      <td>0.028065</td>\n",
       "      <td>0.077908</td>\n",
       "      <td>0.020061</td>\n",
       "      <td>0.025007</td>\n",
       "      <td>0.030310</td>\n",
       "      <td>0.023335</td>\n",
       "      <td>0.025924</td>\n",
       "    </tr>\n",
       "    <tr>\n",
       "      <th>bmi</th>\n",
       "      <td>0.031247</td>\n",
       "      <td>0.087077</td>\n",
       "      <td>1.000000</td>\n",
       "      <td>0.015921</td>\n",
       "      <td>0.056316</td>\n",
       "      <td>0.001531</td>\n",
       "      <td>0.877339</td>\n",
       "      <td>0.026047</td>\n",
       "      <td>0.006514</td>\n",
       "      <td>0.015420</td>\n",
       "      <td>...</td>\n",
       "      <td>0.024323</td>\n",
       "      <td>0.023523</td>\n",
       "      <td>0.020434</td>\n",
       "      <td>0.002377</td>\n",
       "      <td>0.172943</td>\n",
       "      <td>0.001855</td>\n",
       "      <td>0.031144</td>\n",
       "      <td>0.013375</td>\n",
       "      <td>0.010017</td>\n",
       "      <td>0.043380</td>\n",
       "    </tr>\n",
       "    <tr>\n",
       "      <th>elective_surgery</th>\n",
       "      <td>0.093574</td>\n",
       "      <td>0.067320</td>\n",
       "      <td>0.015921</td>\n",
       "      <td>1.000000</td>\n",
       "      <td>0.023620</td>\n",
       "      <td>0.133704</td>\n",
       "      <td>0.026900</td>\n",
       "      <td>0.367040</td>\n",
       "      <td>0.775025</td>\n",
       "      <td>0.908247</td>\n",
       "      <td>...</td>\n",
       "      <td>0.098373</td>\n",
       "      <td>0.040979</td>\n",
       "      <td>0.006229</td>\n",
       "      <td>0.031512</td>\n",
       "      <td>0.001645</td>\n",
       "      <td>0.034700</td>\n",
       "      <td>0.014695</td>\n",
       "      <td>0.017587</td>\n",
       "      <td>0.008215</td>\n",
       "      <td>0.015369</td>\n",
       "    </tr>\n",
       "    <tr>\n",
       "      <th>height</th>\n",
       "      <td>0.019526</td>\n",
       "      <td>0.109937</td>\n",
       "      <td>0.056316</td>\n",
       "      <td>0.023620</td>\n",
       "      <td>1.000000</td>\n",
       "      <td>0.008075</td>\n",
       "      <td>0.391967</td>\n",
       "      <td>0.001630</td>\n",
       "      <td>0.015268</td>\n",
       "      <td>0.025276</td>\n",
       "      <td>...</td>\n",
       "      <td>0.012780</td>\n",
       "      <td>0.017753</td>\n",
       "      <td>0.009290</td>\n",
       "      <td>0.012043</td>\n",
       "      <td>0.000980</td>\n",
       "      <td>0.010481</td>\n",
       "      <td>0.000530</td>\n",
       "      <td>0.001718</td>\n",
       "      <td>0.008370</td>\n",
       "      <td>0.004921</td>\n",
       "    </tr>\n",
       "  </tbody>\n",
       "</table>\n",
       "<p>5 rows × 97 columns</p>\n",
       "</div>"
      ],
      "text/plain": [
       "                  hospital_death       age       bmi  elective_surgery  \\\n",
       "hospital_death          1.000000  0.111017  0.031247          0.093574   \n",
       "age                     0.111017  1.000000  0.087077          0.067320   \n",
       "bmi                     0.031247  0.087077  1.000000          0.015921   \n",
       "elective_surgery        0.093574  0.067320  0.015921          1.000000   \n",
       "height                  0.019526  0.109937  0.056316          0.023620   \n",
       "\n",
       "                    height  pre_icu_los_days    weight  apache_2_diagnosis  \\\n",
       "hospital_death    0.019526          0.063316  0.038362            0.089862   \n",
       "age               0.109937          0.049872  0.127252            0.022914   \n",
       "bmi               0.056316          0.001531  0.877339            0.026047   \n",
       "elective_surgery  0.023620          0.133704  0.026900            0.367040   \n",
       "height            1.000000          0.008075  0.391967            0.001630   \n",
       "\n",
       "                  apache_3j_diagnosis  apache_post_operative  ...  d1_wbc_max  \\\n",
       "hospital_death               0.090715               0.083674  ...    0.143862   \n",
       "age                          0.056060               0.059246  ...    0.003009   \n",
       "bmi                          0.006514               0.015420  ...    0.024323   \n",
       "elective_surgery             0.775025               0.908247  ...    0.098373   \n",
       "height                       0.015268               0.025276  ...    0.012780   \n",
       "\n",
       "                  d1_wbc_min      aids  cirrhosis  diabetes_mellitus  \\\n",
       "hospital_death      0.121420  0.004403   0.039453           0.015784   \n",
       "age                 0.001538  0.029477   0.028065           0.077908   \n",
       "bmi                 0.023523  0.020434   0.002377           0.172943   \n",
       "elective_surgery    0.040979  0.006229   0.031512           0.001645   \n",
       "height              0.017753  0.009290   0.012043           0.000980   \n",
       "\n",
       "                  hepatic_failure  immunosuppression  leukemia  lymphoma  \\\n",
       "hospital_death           0.038864           0.043973  0.029788  0.018722   \n",
       "age                      0.020061           0.025007  0.030310  0.023335   \n",
       "bmi                      0.001855           0.031144  0.013375  0.010017   \n",
       "elective_surgery         0.034700           0.014695  0.017587  0.008215   \n",
       "height                   0.010481           0.000530  0.001718  0.008370   \n",
       "\n",
       "                  solid_tumor_with_metastasis  \n",
       "hospital_death                       0.051105  \n",
       "age                                  0.025924  \n",
       "bmi                                  0.043380  \n",
       "elective_surgery                     0.015369  \n",
       "height                               0.004921  \n",
       "\n",
       "[5 rows x 97 columns]"
      ]
     },
     "execution_count": 12,
     "metadata": {
      "tags": []
     },
     "output_type": "execute_result"
    }
   ],
   "source": [
    "# Threshold for removing correlated variables\n",
    "threshold = 0.9\n",
    "\n",
    "# Absolute value correlation matrix\n",
    "corr_matrix = training_data.corr().abs()\n",
    "corr_matrix.head()"
   ]
  },
  {
   "cell_type": "code",
   "execution_count": 0,
   "metadata": {
    "colab": {},
    "colab_type": "code",
    "id": "xqUwDga8GqT6",
    "outputId": "1cec1bb8-5e59-411f-889d-b6a33e3ecaaf"
   },
   "outputs": [
    {
     "data": {
      "text/html": [
       "<div>\n",
       "<style scoped>\n",
       "    .dataframe tbody tr th:only-of-type {\n",
       "        vertical-align: middle;\n",
       "    }\n",
       "\n",
       "    .dataframe tbody tr th {\n",
       "        vertical-align: top;\n",
       "    }\n",
       "\n",
       "    .dataframe thead th {\n",
       "        text-align: right;\n",
       "    }\n",
       "</style>\n",
       "<table border=\"1\" class=\"dataframe\">\n",
       "  <thead>\n",
       "    <tr style=\"text-align: right;\">\n",
       "      <th></th>\n",
       "      <th>hospital_death</th>\n",
       "      <th>age</th>\n",
       "      <th>bmi</th>\n",
       "      <th>elective_surgery</th>\n",
       "      <th>height</th>\n",
       "      <th>pre_icu_los_days</th>\n",
       "      <th>weight</th>\n",
       "      <th>apache_2_diagnosis</th>\n",
       "      <th>apache_3j_diagnosis</th>\n",
       "      <th>apache_post_operative</th>\n",
       "      <th>...</th>\n",
       "      <th>d1_wbc_max</th>\n",
       "      <th>d1_wbc_min</th>\n",
       "      <th>aids</th>\n",
       "      <th>cirrhosis</th>\n",
       "      <th>diabetes_mellitus</th>\n",
       "      <th>hepatic_failure</th>\n",
       "      <th>immunosuppression</th>\n",
       "      <th>leukemia</th>\n",
       "      <th>lymphoma</th>\n",
       "      <th>solid_tumor_with_metastasis</th>\n",
       "    </tr>\n",
       "  </thead>\n",
       "  <tbody>\n",
       "    <tr>\n",
       "      <th>hospital_death</th>\n",
       "      <td>NaN</td>\n",
       "      <td>0.111017</td>\n",
       "      <td>0.031247</td>\n",
       "      <td>0.093574</td>\n",
       "      <td>0.019526</td>\n",
       "      <td>0.063316</td>\n",
       "      <td>0.038362</td>\n",
       "      <td>0.089862</td>\n",
       "      <td>0.090715</td>\n",
       "      <td>0.083674</td>\n",
       "      <td>...</td>\n",
       "      <td>0.143862</td>\n",
       "      <td>0.121420</td>\n",
       "      <td>0.004403</td>\n",
       "      <td>0.039453</td>\n",
       "      <td>0.015784</td>\n",
       "      <td>0.038864</td>\n",
       "      <td>0.043973</td>\n",
       "      <td>0.029788</td>\n",
       "      <td>0.018722</td>\n",
       "      <td>0.051105</td>\n",
       "    </tr>\n",
       "    <tr>\n",
       "      <th>age</th>\n",
       "      <td>NaN</td>\n",
       "      <td>NaN</td>\n",
       "      <td>0.087077</td>\n",
       "      <td>0.067320</td>\n",
       "      <td>0.109937</td>\n",
       "      <td>0.049872</td>\n",
       "      <td>0.127252</td>\n",
       "      <td>0.022914</td>\n",
       "      <td>0.056060</td>\n",
       "      <td>0.059246</td>\n",
       "      <td>...</td>\n",
       "      <td>0.003009</td>\n",
       "      <td>0.001538</td>\n",
       "      <td>0.029477</td>\n",
       "      <td>0.028065</td>\n",
       "      <td>0.077908</td>\n",
       "      <td>0.020061</td>\n",
       "      <td>0.025007</td>\n",
       "      <td>0.030310</td>\n",
       "      <td>0.023335</td>\n",
       "      <td>0.025924</td>\n",
       "    </tr>\n",
       "    <tr>\n",
       "      <th>bmi</th>\n",
       "      <td>NaN</td>\n",
       "      <td>NaN</td>\n",
       "      <td>NaN</td>\n",
       "      <td>0.015921</td>\n",
       "      <td>0.056316</td>\n",
       "      <td>0.001531</td>\n",
       "      <td>0.877339</td>\n",
       "      <td>0.026047</td>\n",
       "      <td>0.006514</td>\n",
       "      <td>0.015420</td>\n",
       "      <td>...</td>\n",
       "      <td>0.024323</td>\n",
       "      <td>0.023523</td>\n",
       "      <td>0.020434</td>\n",
       "      <td>0.002377</td>\n",
       "      <td>0.172943</td>\n",
       "      <td>0.001855</td>\n",
       "      <td>0.031144</td>\n",
       "      <td>0.013375</td>\n",
       "      <td>0.010017</td>\n",
       "      <td>0.043380</td>\n",
       "    </tr>\n",
       "    <tr>\n",
       "      <th>elective_surgery</th>\n",
       "      <td>NaN</td>\n",
       "      <td>NaN</td>\n",
       "      <td>NaN</td>\n",
       "      <td>NaN</td>\n",
       "      <td>0.023620</td>\n",
       "      <td>0.133704</td>\n",
       "      <td>0.026900</td>\n",
       "      <td>0.367040</td>\n",
       "      <td>0.775025</td>\n",
       "      <td>0.908247</td>\n",
       "      <td>...</td>\n",
       "      <td>0.098373</td>\n",
       "      <td>0.040979</td>\n",
       "      <td>0.006229</td>\n",
       "      <td>0.031512</td>\n",
       "      <td>0.001645</td>\n",
       "      <td>0.034700</td>\n",
       "      <td>0.014695</td>\n",
       "      <td>0.017587</td>\n",
       "      <td>0.008215</td>\n",
       "      <td>0.015369</td>\n",
       "    </tr>\n",
       "    <tr>\n",
       "      <th>height</th>\n",
       "      <td>NaN</td>\n",
       "      <td>NaN</td>\n",
       "      <td>NaN</td>\n",
       "      <td>NaN</td>\n",
       "      <td>NaN</td>\n",
       "      <td>0.008075</td>\n",
       "      <td>0.391967</td>\n",
       "      <td>0.001630</td>\n",
       "      <td>0.015268</td>\n",
       "      <td>0.025276</td>\n",
       "      <td>...</td>\n",
       "      <td>0.012780</td>\n",
       "      <td>0.017753</td>\n",
       "      <td>0.009290</td>\n",
       "      <td>0.012043</td>\n",
       "      <td>0.000980</td>\n",
       "      <td>0.010481</td>\n",
       "      <td>0.000530</td>\n",
       "      <td>0.001718</td>\n",
       "      <td>0.008370</td>\n",
       "      <td>0.004921</td>\n",
       "    </tr>\n",
       "  </tbody>\n",
       "</table>\n",
       "<p>5 rows × 97 columns</p>\n",
       "</div>"
      ],
      "text/plain": [
       "                  hospital_death       age       bmi  elective_surgery  \\\n",
       "hospital_death               NaN  0.111017  0.031247          0.093574   \n",
       "age                          NaN       NaN  0.087077          0.067320   \n",
       "bmi                          NaN       NaN       NaN          0.015921   \n",
       "elective_surgery             NaN       NaN       NaN               NaN   \n",
       "height                       NaN       NaN       NaN               NaN   \n",
       "\n",
       "                    height  pre_icu_los_days    weight  apache_2_diagnosis  \\\n",
       "hospital_death    0.019526          0.063316  0.038362            0.089862   \n",
       "age               0.109937          0.049872  0.127252            0.022914   \n",
       "bmi               0.056316          0.001531  0.877339            0.026047   \n",
       "elective_surgery  0.023620          0.133704  0.026900            0.367040   \n",
       "height                 NaN          0.008075  0.391967            0.001630   \n",
       "\n",
       "                  apache_3j_diagnosis  apache_post_operative  ...  d1_wbc_max  \\\n",
       "hospital_death               0.090715               0.083674  ...    0.143862   \n",
       "age                          0.056060               0.059246  ...    0.003009   \n",
       "bmi                          0.006514               0.015420  ...    0.024323   \n",
       "elective_surgery             0.775025               0.908247  ...    0.098373   \n",
       "height                       0.015268               0.025276  ...    0.012780   \n",
       "\n",
       "                  d1_wbc_min      aids  cirrhosis  diabetes_mellitus  \\\n",
       "hospital_death      0.121420  0.004403   0.039453           0.015784   \n",
       "age                 0.001538  0.029477   0.028065           0.077908   \n",
       "bmi                 0.023523  0.020434   0.002377           0.172943   \n",
       "elective_surgery    0.040979  0.006229   0.031512           0.001645   \n",
       "height              0.017753  0.009290   0.012043           0.000980   \n",
       "\n",
       "                  hepatic_failure  immunosuppression  leukemia  lymphoma  \\\n",
       "hospital_death           0.038864           0.043973  0.029788  0.018722   \n",
       "age                      0.020061           0.025007  0.030310  0.023335   \n",
       "bmi                      0.001855           0.031144  0.013375  0.010017   \n",
       "elective_surgery         0.034700           0.014695  0.017587  0.008215   \n",
       "height                   0.010481           0.000530  0.001718  0.008370   \n",
       "\n",
       "                  solid_tumor_with_metastasis  \n",
       "hospital_death                       0.051105  \n",
       "age                                  0.025924  \n",
       "bmi                                  0.043380  \n",
       "elective_surgery                     0.015369  \n",
       "height                               0.004921  \n",
       "\n",
       "[5 rows x 97 columns]"
      ]
     },
     "execution_count": 13,
     "metadata": {
      "tags": []
     },
     "output_type": "execute_result"
    }
   ],
   "source": [
    "# Upper triangle of correlations\n",
    "upper = corr_matrix.where(np.triu(np.ones(corr_matrix.shape), k=1).astype(np.bool))\n",
    "upper.head()"
   ]
  },
  {
   "cell_type": "code",
   "execution_count": 0,
   "metadata": {
    "colab": {},
    "colab_type": "code",
    "id": "-KA3OVW5GqT8",
    "outputId": "564a1d47-9021-4cb7-f646-00fa0997f790"
   },
   "outputs": [
    {
     "name": "stdout",
     "output_type": "stream",
     "text": [
      "There are 25 columns to remove.\n"
     ]
    }
   ],
   "source": [
    "# Select columns with correlations above threshold\n",
    "to_drop = [column for column in upper.columns if any(upper[column] > threshold)]\n",
    "print('There are %d columns to remove.' % (len(to_drop)))\n",
    "#Drop the columns with high correlations\n",
    "training_data = training_data.drop(columns = to_drop)"
   ]
  },
  {
   "cell_type": "code",
   "execution_count": 0,
   "metadata": {
    "colab": {},
    "colab_type": "code",
    "id": "K3KNdTbJGqT9",
    "outputId": "bd7d1e8d-735d-4aad-db64-7861d8a4e3f1"
   },
   "outputs": [
    {
     "data": {
      "text/plain": [
       "(91713, 80)"
      ]
     },
     "execution_count": 15,
     "metadata": {
      "tags": []
     },
     "output_type": "execute_result"
    }
   ],
   "source": [
    "training_data.shape"
   ]
  },
  {
   "cell_type": "markdown",
   "metadata": {
    "colab_type": "text",
    "id": "wZ2N0NY4GqT_"
   },
   "source": [
    "The follow cells show the top 20 most correlated variables and their dictionary descriptions. A select few variables are selected for the model to train on. These variables are imputed with median values to prepare for training."
   ]
  },
  {
   "cell_type": "code",
   "execution_count": 0,
   "metadata": {
    "colab": {},
    "colab_type": "code",
    "id": "-Jnm6Vx3GqT_",
    "outputId": "7ee13c67-9a08-411c-b3d8-df55076d1b08"
   },
   "outputs": [
    {
     "data": {
      "text/plain": [
       "hospital_death       1.000000\n",
       "gcs_motor_apache     0.282449\n",
       "gcs_eyes_apache      0.260373\n",
       "gcs_verbal_apache    0.241044\n",
       "ventilated_apache    0.228661\n",
       "d1_sysbp_min         0.210170\n",
       "d1_spo2_min          0.210100\n",
       "d1_temp_min          0.207239\n",
       "d1_mbp_min           0.195262\n",
       "bun_apache           0.181435\n",
       "d1_diasbp_min        0.179559\n",
       "intubated_apache     0.173139\n",
       "d1_hco3_min          0.163213\n",
       "d1_heartrate_max     0.162934\n",
       "temp_apache          0.158634\n",
       "h1_sysbp_min         0.146440\n",
       "h1_mbp_min           0.141619\n",
       "wbc_apache           0.134265\n",
       "d1_calcium_min       0.130456\n",
       "d1_hco3_max          0.126455\n",
       "Name: hospital_death, dtype: float64"
      ]
     },
     "execution_count": 16,
     "metadata": {
      "tags": []
     },
     "output_type": "execute_result"
    }
   ],
   "source": [
    "correlation = training_data.corr()\n",
    "death_correlation = abs(correlation['hospital_death'])\n",
    "death_correlation = death_correlation.sort_values(ascending=False)\n",
    "death_correlation.head(20)"
   ]
  },
  {
   "cell_type": "code",
   "execution_count": 0,
   "metadata": {
    "colab": {},
    "colab_type": "code",
    "id": "cCX-aeO7GqUB",
    "outputId": "a18ba40a-d285-4f7e-dda0-a4f92216d285",
    "scrolled": true
   },
   "outputs": [
    {
     "name": "stdout",
     "output_type": "stream",
     "text": [
      "['gcs_motor_apache', 'gcs_eyes_apache', 'gcs_verbal_apache', 'ventilated_apache', 'd1_sysbp_min', 'd1_spo2_min', 'd1_temp_min', 'd1_mbp_min', 'bun_apache', 'd1_diasbp_min', 'intubated_apache', 'd1_hco3_min', 'd1_heartrate_max', 'temp_apache', 'h1_sysbp_min', 'h1_mbp_min', 'wbc_apache', 'd1_calcium_min', 'd1_hco3_max', 'h1_diasbp_min']\n"
     ]
    },
    {
     "data": {
      "text/html": [
       "<div>\n",
       "<style scoped>\n",
       "    .dataframe tbody tr th:only-of-type {\n",
       "        vertical-align: middle;\n",
       "    }\n",
       "\n",
       "    .dataframe tbody tr th {\n",
       "        vertical-align: top;\n",
       "    }\n",
       "\n",
       "    .dataframe thead th {\n",
       "        text-align: right;\n",
       "    }\n",
       "</style>\n",
       "<table border=\"1\" class=\"dataframe\">\n",
       "  <thead>\n",
       "    <tr style=\"text-align: right;\">\n",
       "      <th></th>\n",
       "      <th>Category</th>\n",
       "      <th>Variable Name</th>\n",
       "      <th>Description</th>\n",
       "    </tr>\n",
       "  </thead>\n",
       "  <tbody>\n",
       "    <tr>\n",
       "      <th>25</th>\n",
       "      <td>APACHE covariate</td>\n",
       "      <td>bun_apache</td>\n",
       "      <td>The blood urea nitrogen concentration measured during the first 24 hours which results in the highest APACHE III score</td>\n",
       "    </tr>\n",
       "    <tr>\n",
       "      <th>28</th>\n",
       "      <td>APACHE covariate</td>\n",
       "      <td>gcs_eyes_apache</td>\n",
       "      <td>The eye opening component of the Glasgow Coma Scale measured during the first 24 hours which results in the highest APACHE III score</td>\n",
       "    </tr>\n",
       "    <tr>\n",
       "      <th>29</th>\n",
       "      <td>APACHE covariate</td>\n",
       "      <td>gcs_motor_apache</td>\n",
       "      <td>The motor component of the Glasgow Coma Scale measured during the first 24 hours which results in the highest APACHE III score</td>\n",
       "    </tr>\n",
       "    <tr>\n",
       "      <th>31</th>\n",
       "      <td>APACHE covariate</td>\n",
       "      <td>gcs_verbal_apache</td>\n",
       "      <td>The verbal component of the Glasgow Coma Scale measured during the first 24 hours which results in the highest APACHE III score</td>\n",
       "    </tr>\n",
       "    <tr>\n",
       "      <th>35</th>\n",
       "      <td>APACHE covariate</td>\n",
       "      <td>intubated_apache</td>\n",
       "      <td>Whether the patient was intubated at the time of the highest scoring arterial blood gas used in the oxygenation score</td>\n",
       "    </tr>\n",
       "    <tr>\n",
       "      <th>43</th>\n",
       "      <td>APACHE covariate</td>\n",
       "      <td>temp_apache</td>\n",
       "      <td>The temperature measured during the first 24 hours which results in the highest APACHE III score</td>\n",
       "    </tr>\n",
       "    <tr>\n",
       "      <th>45</th>\n",
       "      <td>APACHE covariate</td>\n",
       "      <td>ventilated_apache</td>\n",
       "      <td>Whether the patient was invasively ventilated at the time of the highest scoring arterial blood gas using the oxygenation scoring algorithm, including any mode of positive pressure ventilation delivered through a circuit attached to an endo-tracheal tube or tracheostomy</td>\n",
       "    </tr>\n",
       "    <tr>\n",
       "      <th>46</th>\n",
       "      <td>APACHE covariate</td>\n",
       "      <td>wbc_apache</td>\n",
       "      <td>The white blood cell count measured during the first 24 hours which results in the highest APACHE III score</td>\n",
       "    </tr>\n",
       "    <tr>\n",
       "      <th>50</th>\n",
       "      <td>vitals</td>\n",
       "      <td>d1_diasbp_min</td>\n",
       "      <td>The patient's lowest diastolic blood pressure during the first 24 hours of their unit stay, either non-invasively or invasively measured</td>\n",
       "    </tr>\n",
       "    <tr>\n",
       "      <th>53</th>\n",
       "      <td>vitals</td>\n",
       "      <td>d1_heartrate_max</td>\n",
       "      <td>The patient's highest heart rate during the first 24 hours of their unit stay</td>\n",
       "    </tr>\n",
       "    <tr>\n",
       "      <th>58</th>\n",
       "      <td>vitals</td>\n",
       "      <td>d1_mbp_min</td>\n",
       "      <td>The patient's lowest mean blood pressure during the first 24 hours of their unit stay, either non-invasively or invasively measured</td>\n",
       "    </tr>\n",
       "    <tr>\n",
       "      <th>64</th>\n",
       "      <td>vitals</td>\n",
       "      <td>d1_spo2_min</td>\n",
       "      <td>The patient's lowest peripheral oxygen saturation during the first 24 hours of their unit stay</td>\n",
       "    </tr>\n",
       "    <tr>\n",
       "      <th>68</th>\n",
       "      <td>vitals</td>\n",
       "      <td>d1_sysbp_min</td>\n",
       "      <td>The patient's lowest systolic blood pressure during the first 24 hours of their unit stay, either non-invasively or invasively measured</td>\n",
       "    </tr>\n",
       "    <tr>\n",
       "      <th>72</th>\n",
       "      <td>vitals</td>\n",
       "      <td>d1_temp_min</td>\n",
       "      <td>The patient's lowest core temperature during the first 24 hours of their unit stay</td>\n",
       "    </tr>\n",
       "    <tr>\n",
       "      <th>76</th>\n",
       "      <td>vitals</td>\n",
       "      <td>h1_diasbp_min</td>\n",
       "      <td>The patient's lowest diastolic blood pressure during the first hour of their unit stay, either non-invasively or invasively measured</td>\n",
       "    </tr>\n",
       "    <tr>\n",
       "      <th>84</th>\n",
       "      <td>vitals</td>\n",
       "      <td>h1_mbp_min</td>\n",
       "      <td>The patient's lowest mean blood pressure during the first hour of their unit stay, either non-invasively or invasively measured</td>\n",
       "    </tr>\n",
       "    <tr>\n",
       "      <th>94</th>\n",
       "      <td>vitals</td>\n",
       "      <td>h1_sysbp_min</td>\n",
       "      <td>The patient's lowest systolic blood pressure during the first hour of their unit stay, either non-invasively or invasively measured</td>\n",
       "    </tr>\n",
       "    <tr>\n",
       "      <th>106</th>\n",
       "      <td>labs</td>\n",
       "      <td>d1_calcium_min</td>\n",
       "      <td>The lowest calcium concentration of the patient in their serum during the first 24 hours of their unit stay</td>\n",
       "    </tr>\n",
       "    <tr>\n",
       "      <th>111</th>\n",
       "      <td>labs</td>\n",
       "      <td>d1_hco3_max</td>\n",
       "      <td>The highest bicarbonate concentration for the patient in their serum or plasma during the first 24 hours of their unit stay</td>\n",
       "    </tr>\n",
       "    <tr>\n",
       "      <th>112</th>\n",
       "      <td>labs</td>\n",
       "      <td>d1_hco3_min</td>\n",
       "      <td>The lowest bicarbonate concentration for the patient in their serum or plasma during the first 24 hours of their unit stay</td>\n",
       "    </tr>\n",
       "  </tbody>\n",
       "</table>\n",
       "</div>"
      ],
      "text/plain": [
       "             Category      Variable Name  \\\n",
       "25   APACHE covariate  bun_apache          \n",
       "28   APACHE covariate  gcs_eyes_apache     \n",
       "29   APACHE covariate  gcs_motor_apache    \n",
       "31   APACHE covariate  gcs_verbal_apache   \n",
       "35   APACHE covariate  intubated_apache    \n",
       "43   APACHE covariate  temp_apache         \n",
       "45   APACHE covariate  ventilated_apache   \n",
       "46   APACHE covariate  wbc_apache          \n",
       "50   vitals            d1_diasbp_min       \n",
       "53   vitals            d1_heartrate_max    \n",
       "58   vitals            d1_mbp_min          \n",
       "64   vitals            d1_spo2_min         \n",
       "68   vitals            d1_sysbp_min        \n",
       "72   vitals            d1_temp_min         \n",
       "76   vitals            h1_diasbp_min       \n",
       "84   vitals            h1_mbp_min          \n",
       "94   vitals            h1_sysbp_min        \n",
       "106  labs              d1_calcium_min      \n",
       "111  labs              d1_hco3_max         \n",
       "112  labs              d1_hco3_min         \n",
       "\n",
       "                                                                                                                                                                                                                                                                        Description  \n",
       "25   The blood urea nitrogen concentration measured during the first 24 hours which results in the highest APACHE III score                                                                                                                                                          \n",
       "28   The eye opening component of the Glasgow Coma Scale measured during the first 24 hours which results in the highest APACHE III score                                                                                                                                            \n",
       "29   The motor component of the Glasgow Coma Scale measured during the first 24 hours which results in the highest APACHE III score                                                                                                                                                  \n",
       "31   The verbal component of the Glasgow Coma Scale measured during the first 24 hours which results in the highest APACHE III score                                                                                                                                                 \n",
       "35   Whether the patient was intubated at the time of the highest scoring arterial blood gas used in the oxygenation score                                                                                                                                                           \n",
       "43   The temperature measured during the first 24 hours which results in the highest APACHE III score                                                                                                                                                                                \n",
       "45   Whether the patient was invasively ventilated at the time of the highest scoring arterial blood gas using the oxygenation scoring algorithm, including any mode of positive pressure ventilation delivered through a circuit attached to an endo-tracheal tube or tracheostomy  \n",
       "46   The white blood cell count measured during the first 24 hours which results in the highest APACHE III score                                                                                                                                                                     \n",
       "50   The patient's lowest diastolic blood pressure during the first 24 hours of their unit stay, either non-invasively or invasively measured                                                                                                                                        \n",
       "53   The patient's highest heart rate during the first 24 hours of their unit stay                                                                                                                                                                                                   \n",
       "58   The patient's lowest mean blood pressure during the first 24 hours of their unit stay, either non-invasively or invasively measured                                                                                                                                             \n",
       "64   The patient's lowest peripheral oxygen saturation during the first 24 hours of their unit stay                                                                                                                                                                                  \n",
       "68   The patient's lowest systolic blood pressure during the first 24 hours of their unit stay, either non-invasively or invasively measured                                                                                                                                         \n",
       "72   The patient's lowest core temperature during the first 24 hours of their unit stay                                                                                                                                                                                              \n",
       "76   The patient's lowest diastolic blood pressure during the first hour of their unit stay, either non-invasively or invasively measured                                                                                                                                            \n",
       "84   The patient's lowest mean blood pressure during the first hour of their unit stay, either non-invasively or invasively measured                                                                                                                                                 \n",
       "94   The patient's lowest systolic blood pressure during the first hour of their unit stay, either non-invasively or invasively measured                                                                                                                                             \n",
       "106  The lowest calcium concentration of the patient in their serum during the first 24 hours of their unit stay                                                                                                                                                                     \n",
       "111  The highest bicarbonate concentration for the patient in their serum or plasma during the first 24 hours of their unit stay                                                                                                                                                     \n",
       "112  The lowest bicarbonate concentration for the patient in their serum or plasma during the first 24 hours of their unit stay                                                                                                                                                      "
      ]
     },
     "execution_count": 19,
     "metadata": {
      "tags": []
     },
     "output_type": "execute_result"
    }
   ],
   "source": [
    "#top 20\n",
    "top_20 = [death_correlation.index[i] for i in range(1,21)]\n",
    "print(top_20)\n",
    "\n",
    "#top 20 dictionary description\n",
    "pd.set_option('display.max_colwidth', -1)\n",
    "top_20 = data_dict[data_dict['Variable Name'].isin(top_20)]\n",
    "to_drop_2 = ['Unit of Measure','Data Type','Example']\n",
    "top_20 = top_20.drop(columns = to_drop_2)\n",
    "top_20"
   ]
  },
  {
   "cell_type": "markdown",
   "metadata": {
    "colab_type": "text",
    "id": "o7fFP8B3GqUD"
   },
   "source": [
    "Glasgow Coma Scale: gcs_eye_apache, gcs_motor_apache, gcs_verbal_apache\n",
    "--are all part of the GCS, probably only need to analyze one variable\n",
    "Intubation: intubated_apache\n",
    "Temperature: temp_apache, d1_temp_min\n",
    "Various Blood Concentrations: bun_apache, ventilated_apache, d1_spo2_min, d1_calcium_min, wbc_apache, d1_hco3_max, d1_hco3_min\n",
    "Bloog Pressure: d1_diasbp_min, d1_heartrate_max, d1_mbp_min, d1_sysbp_min, h1_diasbp_min, h1_sysbp_min\n",
    "\n",
    "Selected Variable: gcs_eyes_apache, intubated_apache, temp_apache, wbc_apache, d1_spo2_min d1_diasbp_min, d1_heartrate_max"
   ]
  },
  {
   "cell_type": "code",
   "execution_count": 0,
   "metadata": {
    "colab": {},
    "colab_type": "code",
    "id": "IMRkWJeHGqUD",
    "outputId": "efbefdca-03a5-4034-a9d6-3fc9c4db8265"
   },
   "outputs": [
    {
     "data": {
      "text/html": [
       "<div>\n",
       "<style scoped>\n",
       "    .dataframe tbody tr th:only-of-type {\n",
       "        vertical-align: middle;\n",
       "    }\n",
       "\n",
       "    .dataframe tbody tr th {\n",
       "        vertical-align: top;\n",
       "    }\n",
       "\n",
       "    .dataframe thead th {\n",
       "        text-align: right;\n",
       "    }\n",
       "</style>\n",
       "<table border=\"1\" class=\"dataframe\">\n",
       "  <thead>\n",
       "    <tr style=\"text-align: right;\">\n",
       "      <th></th>\n",
       "      <th>Category</th>\n",
       "      <th>Variable Name</th>\n",
       "      <th>Unit of Measure</th>\n",
       "      <th>Data Type</th>\n",
       "      <th>Description</th>\n",
       "      <th>Example</th>\n",
       "    </tr>\n",
       "  </thead>\n",
       "  <tbody>\n",
       "    <tr>\n",
       "      <th>28</th>\n",
       "      <td>APACHE covariate</td>\n",
       "      <td>gcs_eyes_apache</td>\n",
       "      <td>None</td>\n",
       "      <td>integer</td>\n",
       "      <td>The eye opening component of the Glasgow Coma Scale measured during the first 24 hours which results in the highest APACHE III score</td>\n",
       "      <td>4</td>\n",
       "    </tr>\n",
       "    <tr>\n",
       "      <th>35</th>\n",
       "      <td>APACHE covariate</td>\n",
       "      <td>intubated_apache</td>\n",
       "      <td>None</td>\n",
       "      <td>binary</td>\n",
       "      <td>Whether the patient was intubated at the time of the highest scoring arterial blood gas used in the oxygenation score</td>\n",
       "      <td>0</td>\n",
       "    </tr>\n",
       "    <tr>\n",
       "      <th>43</th>\n",
       "      <td>APACHE covariate</td>\n",
       "      <td>temp_apache</td>\n",
       "      <td>Degrees Celsius</td>\n",
       "      <td>numeric</td>\n",
       "      <td>The temperature measured during the first 24 hours which results in the highest APACHE III score</td>\n",
       "      <td>33</td>\n",
       "    </tr>\n",
       "    <tr>\n",
       "      <th>46</th>\n",
       "      <td>APACHE covariate</td>\n",
       "      <td>wbc_apache</td>\n",
       "      <td>10^9/L</td>\n",
       "      <td>numeric</td>\n",
       "      <td>The white blood cell count measured during the first 24 hours which results in the highest APACHE III score</td>\n",
       "      <td>10</td>\n",
       "    </tr>\n",
       "    <tr>\n",
       "      <th>50</th>\n",
       "      <td>vitals</td>\n",
       "      <td>d1_diasbp_min</td>\n",
       "      <td>Millimetres of mercury</td>\n",
       "      <td>numeric</td>\n",
       "      <td>The patient's lowest diastolic blood pressure during the first 24 hours of their unit stay, either non-invasively or invasively measured</td>\n",
       "      <td>60</td>\n",
       "    </tr>\n",
       "    <tr>\n",
       "      <th>53</th>\n",
       "      <td>vitals</td>\n",
       "      <td>d1_heartrate_max</td>\n",
       "      <td>Beats per minute</td>\n",
       "      <td>numeric</td>\n",
       "      <td>The patient's highest heart rate during the first 24 hours of their unit stay</td>\n",
       "      <td>75</td>\n",
       "    </tr>\n",
       "    <tr>\n",
       "      <th>64</th>\n",
       "      <td>vitals</td>\n",
       "      <td>d1_spo2_min</td>\n",
       "      <td>Percentage</td>\n",
       "      <td>numeric</td>\n",
       "      <td>The patient's lowest peripheral oxygen saturation during the first 24 hours of their unit stay</td>\n",
       "      <td>100</td>\n",
       "    </tr>\n",
       "  </tbody>\n",
       "</table>\n",
       "</div>"
      ],
      "text/plain": [
       "            Category     Variable Name         Unit of Measure Data Type  \\\n",
       "28  APACHE covariate  gcs_eyes_apache   None                    integer    \n",
       "35  APACHE covariate  intubated_apache  None                    binary     \n",
       "43  APACHE covariate  temp_apache       Degrees Celsius         numeric    \n",
       "46  APACHE covariate  wbc_apache        10^9/L                  numeric    \n",
       "50  vitals            d1_diasbp_min     Millimetres of mercury  numeric    \n",
       "53  vitals            d1_heartrate_max  Beats per minute        numeric    \n",
       "64  vitals            d1_spo2_min       Percentage              numeric    \n",
       "\n",
       "                                                                                                                                 Description  \\\n",
       "28  The eye opening component of the Glasgow Coma Scale measured during the first 24 hours which results in the highest APACHE III score       \n",
       "35  Whether the patient was intubated at the time of the highest scoring arterial blood gas used in the oxygenation score                      \n",
       "43  The temperature measured during the first 24 hours which results in the highest APACHE III score                                           \n",
       "46  The white blood cell count measured during the first 24 hours which results in the highest APACHE III score                                \n",
       "50  The patient's lowest diastolic blood pressure during the first 24 hours of their unit stay, either non-invasively or invasively measured   \n",
       "53  The patient's highest heart rate during the first 24 hours of their unit stay                                                              \n",
       "64  The patient's lowest peripheral oxygen saturation during the first 24 hours of their unit stay                                             \n",
       "\n",
       "   Example  \n",
       "28  4       \n",
       "35  0       \n",
       "43  33      \n",
       "46  10      \n",
       "50  60      \n",
       "53  75      \n",
       "64  100     "
      ]
     },
     "execution_count": 20,
     "metadata": {
      "tags": []
     },
     "output_type": "execute_result"
    }
   ],
   "source": [
    "selected_variables = ['gcs_eyes_apache', 'intubated_apache', 'temp_apache', 'wbc_apache', \n",
    "                   'd1_spo2_min', 'd1_diasbp_min', 'd1_heartrate_max']\n",
    "\n",
    "#select variables dictionary description\n",
    "selected_desc = data_dict[data_dict['Variable Name'].isin(selected_variables)]\n",
    "selected_desc\n",
    "\n",
    "#all variables are binary or numeric"
   ]
  },
  {
   "cell_type": "code",
   "execution_count": 0,
   "metadata": {
    "colab": {},
    "colab_type": "code",
    "id": "XEAdTLovGqUF",
    "outputId": "a17ffbe1-b919-421e-cdbc-775344f3be17"
   },
   "outputs": [
    {
     "name": "stderr",
     "output_type": "stream",
     "text": [
      "/Users/Sonia/anaconda3/envs/py37/lib/python3.7/site-packages/pandas/core/generic.py:6287: SettingWithCopyWarning:\n",
      "\n",
      "\n",
      "A value is trying to be set on a copy of a slice from a DataFrame\n",
      "\n",
      "See the caveats in the documentation: http://pandas.pydata.org/pandas-docs/stable/user_guide/indexing.html#returning-a-view-versus-a-copy\n",
      "\n"
     ]
    },
    {
     "data": {
      "text/plain": [
       "gcs_eyes_apache     0\n",
       "intubated_apache    0\n",
       "temp_apache         0\n",
       "wbc_apache          0\n",
       "d1_spo2_min         0\n",
       "d1_diasbp_min       0\n",
       "d1_heartrate_max    0\n",
       "dtype: int64"
      ]
     },
     "execution_count": 21,
     "metadata": {
      "tags": []
     },
     "output_type": "execute_result"
    }
   ],
   "source": [
    "#creates dataframe with null values (np.nan) imputed with median\n",
    "impute_df = training_data[selected_variables]\n",
    "for variable in selected_variables:\n",
    "    median_variable = impute_df[variable].median()\n",
    "    impute_df[variable].fillna(median_variable, inplace=True)\n",
    "\n",
    "impute_df.isna().sum()\n",
    "#checks there are no more null values"
   ]
  },
  {
   "cell_type": "markdown",
   "metadata": {
    "colab_type": "text",
    "id": "2tvrqLRpGqUI"
   },
   "source": [
    "The following cells create the training model."
   ]
  },
  {
   "cell_type": "code",
   "execution_count": 0,
   "metadata": {
    "colab": {},
    "colab_type": "code",
    "id": "DMkq0JBfGqUJ",
    "outputId": "94c09ec1-c186-4e80-b787-bf4e5ab35051"
   },
   "outputs": [
    {
     "name": "stderr",
     "output_type": "stream",
     "text": [
      "/Users/Sonia/anaconda3/envs/py37/lib/python3.7/site-packages/sklearn/linear_model/logistic.py:432: FutureWarning:\n",
      "\n",
      "Default solver will be changed to 'lbfgs' in 0.22. Specify a solver to silence this warning.\n",
      "\n"
     ]
    },
    {
     "data": {
      "text/plain": [
       "LogisticRegression(C=1.0, class_weight=None, dual=False, fit_intercept=True,\n",
       "                   intercept_scaling=1, l1_ratio=None, max_iter=100,\n",
       "                   multi_class='warn', n_jobs=None, penalty='l2',\n",
       "                   random_state=None, solver='warn', tol=0.0001, verbose=0,\n",
       "                   warm_start=False)"
      ]
     },
     "execution_count": 22,
     "metadata": {
      "tags": []
     },
     "output_type": "execute_result"
    }
   ],
   "source": [
    "lr = LogisticRegression()\n",
    "columns = selected_variables\n",
    "all_X = impute_df[columns]\n",
    "all_y = training_data['hospital_death']\n",
    "\n",
    "lr.fit(all_X, all_y)"
   ]
  },
  {
   "cell_type": "code",
   "execution_count": 0,
   "metadata": {
    "colab": {},
    "colab_type": "code",
    "id": "vOHNCWstGqUK",
    "outputId": "8ce33900-9258-42ee-ebaa-993a05281023"
   },
   "outputs": [
    {
     "data": {
      "text/plain": [
       "(73370, 7)"
      ]
     },
     "execution_count": 23,
     "metadata": {
      "tags": []
     },
     "output_type": "execute_result"
    }
   ],
   "source": [
    "train_X, test_X, train_y, test_y = train_test_split(all_X, all_y, test_size=0.2,random_state=0)\n",
    "train_X.shape"
   ]
  },
  {
   "cell_type": "code",
   "execution_count": 0,
   "metadata": {
    "colab": {},
    "colab_type": "code",
    "id": "b3PErwmyGqUM",
    "outputId": "96a3ad94-4968-4313-f4c5-15f9d43f4986"
   },
   "outputs": [
    {
     "name": "stderr",
     "output_type": "stream",
     "text": [
      "/Users/Sonia/anaconda3/envs/py37/lib/python3.7/site-packages/sklearn/linear_model/logistic.py:432: FutureWarning:\n",
      "\n",
      "Default solver will be changed to 'lbfgs' in 0.22. Specify a solver to silence this warning.\n",
      "\n"
     ]
    },
    {
     "name": "stdout",
     "output_type": "stream",
     "text": [
      "deaths prediction: 1.78%\n"
     ]
    }
   ],
   "source": [
    "lr = LogisticRegression()\n",
    "lr.fit(train_X, train_y)\n",
    "predictions = lr.predict(test_X)\n",
    "print(\"deaths prediction: {:.2f}%\".format((sum(predictions)/len(predictions)*100)))"
   ]
  },
  {
   "cell_type": "code",
   "execution_count": 0,
   "metadata": {
    "colab": {},
    "colab_type": "code",
    "id": "0f5yMzLCGqUO",
    "outputId": "19b65b90-106e-4c39-cabe-c6f0e4da15a4"
   },
   "outputs": [
    {
     "name": "stderr",
     "output_type": "stream",
     "text": [
      "/Users/Sonia/anaconda3/envs/py37/lib/python3.7/site-packages/sklearn/linear_model/logistic.py:432: FutureWarning:\n",
      "\n",
      "Default solver will be changed to 'lbfgs' in 0.22. Specify a solver to silence this warning.\n",
      "\n"
     ]
    },
    {
     "name": "stdout",
     "output_type": "stream",
     "text": [
      "model accuracy: 91.46%\n"
     ]
    }
   ],
   "source": [
    "lr = LogisticRegression()\n",
    "lr.fit(train_X, train_y)\n",
    "predictions = lr.predict(test_X)\n",
    "accuracy = accuracy_score(test_y, predictions)\n",
    "print(\"model accuracy: {:.2f}%\".format(accuracy*100))"
   ]
  },
  {
   "cell_type": "code",
   "execution_count": 0,
   "metadata": {
    "colab": {},
    "colab_type": "code",
    "id": "zz_zmvDLGqUP",
    "outputId": "5763bd15-a23b-40de-8025-9c808b1e81a4"
   },
   "outputs": [
    {
     "data": {
      "text/html": [
       "<div>\n",
       "<style scoped>\n",
       "    .dataframe tbody tr th:only-of-type {\n",
       "        vertical-align: middle;\n",
       "    }\n",
       "\n",
       "    .dataframe tbody tr th {\n",
       "        vertical-align: top;\n",
       "    }\n",
       "\n",
       "    .dataframe thead th {\n",
       "        text-align: right;\n",
       "    }\n",
       "</style>\n",
       "<table border=\"1\" class=\"dataframe\">\n",
       "  <thead>\n",
       "    <tr style=\"text-align: right;\">\n",
       "      <th></th>\n",
       "      <th>Survived_True</th>\n",
       "      <th>Died_True</th>\n",
       "    </tr>\n",
       "  </thead>\n",
       "  <tbody>\n",
       "    <tr>\n",
       "      <th>Survived_Predicted</th>\n",
       "      <td>16561</td>\n",
       "      <td>111</td>\n",
       "    </tr>\n",
       "    <tr>\n",
       "      <th>Died_Predicted</th>\n",
       "      <td>1456</td>\n",
       "      <td>215</td>\n",
       "    </tr>\n",
       "  </tbody>\n",
       "</table>\n",
       "</div>"
      ],
      "text/plain": [
       "                    Survived_True  Died_True\n",
       "Survived_Predicted  16561          111      \n",
       "Died_Predicted      1456           215      "
      ]
     },
     "execution_count": 26,
     "metadata": {
      "tags": []
     },
     "output_type": "execute_result"
    }
   ],
   "source": [
    "conf_matrix = confusion_matrix(test_y, predictions)\n",
    "pd.DataFrame(conf_matrix, columns=['Survived_True', 'Died_True'], index=[['Survived_Predicted', 'Died_Predicted']])"
   ]
  },
  {
   "cell_type": "markdown",
   "metadata": {},
   "source": [
    "The following cell runs the trained model 10 times and averages the output accuracy."
   ]
  },
  {
   "cell_type": "code",
   "execution_count": 0,
   "metadata": {
    "colab": {},
    "colab_type": "code",
    "id": "OugA7pIZGqUR",
    "outputId": "e3cd1c86-7cce-403d-83ea-f34d806695ea"
   },
   "outputs": [
    {
     "name": "stderr",
     "output_type": "stream",
     "text": [
      "/Users/Sonia/anaconda3/envs/py37/lib/python3.7/site-packages/sklearn/linear_model/logistic.py:432: FutureWarning:\n",
      "\n",
      "Default solver will be changed to 'lbfgs' in 0.22. Specify a solver to silence this warning.\n",
      "\n",
      "/Users/Sonia/anaconda3/envs/py37/lib/python3.7/site-packages/sklearn/linear_model/logistic.py:432: FutureWarning:\n",
      "\n",
      "Default solver will be changed to 'lbfgs' in 0.22. Specify a solver to silence this warning.\n",
      "\n",
      "/Users/Sonia/anaconda3/envs/py37/lib/python3.7/site-packages/sklearn/linear_model/logistic.py:432: FutureWarning:\n",
      "\n",
      "Default solver will be changed to 'lbfgs' in 0.22. Specify a solver to silence this warning.\n",
      "\n",
      "/Users/Sonia/anaconda3/envs/py37/lib/python3.7/site-packages/sklearn/linear_model/logistic.py:432: FutureWarning:\n",
      "\n",
      "Default solver will be changed to 'lbfgs' in 0.22. Specify a solver to silence this warning.\n",
      "\n",
      "/Users/Sonia/anaconda3/envs/py37/lib/python3.7/site-packages/sklearn/linear_model/logistic.py:432: FutureWarning:\n",
      "\n",
      "Default solver will be changed to 'lbfgs' in 0.22. Specify a solver to silence this warning.\n",
      "\n",
      "/Users/Sonia/anaconda3/envs/py37/lib/python3.7/site-packages/sklearn/linear_model/logistic.py:432: FutureWarning:\n",
      "\n",
      "Default solver will be changed to 'lbfgs' in 0.22. Specify a solver to silence this warning.\n",
      "\n",
      "/Users/Sonia/anaconda3/envs/py37/lib/python3.7/site-packages/sklearn/linear_model/logistic.py:432: FutureWarning:\n",
      "\n",
      "Default solver will be changed to 'lbfgs' in 0.22. Specify a solver to silence this warning.\n",
      "\n",
      "/Users/Sonia/anaconda3/envs/py37/lib/python3.7/site-packages/sklearn/linear_model/logistic.py:432: FutureWarning:\n",
      "\n",
      "Default solver will be changed to 'lbfgs' in 0.22. Specify a solver to silence this warning.\n",
      "\n",
      "/Users/Sonia/anaconda3/envs/py37/lib/python3.7/site-packages/sklearn/linear_model/logistic.py:432: FutureWarning:\n",
      "\n",
      "Default solver will be changed to 'lbfgs' in 0.22. Specify a solver to silence this warning.\n",
      "\n",
      "/Users/Sonia/anaconda3/envs/py37/lib/python3.7/site-packages/sklearn/linear_model/logistic.py:432: FutureWarning:\n",
      "\n",
      "Default solver will be changed to 'lbfgs' in 0.22. Specify a solver to silence this warning.\n",
      "\n"
     ]
    },
    {
     "name": "stdout",
     "output_type": "stream",
     "text": [
      "[0.92106411 0.91877453 0.92171827 0.91833842 0.92095508 0.91876567\n",
      " 0.91822048 0.91702104 0.91592148 0.91712105]\n"
     ]
    },
    {
     "data": {
      "text/plain": [
       "0.918790014089147"
      ]
     },
     "execution_count": 27,
     "metadata": {
      "tags": []
     },
     "output_type": "execute_result"
    }
   ],
   "source": [
    "lr = LogisticRegression()\n",
    "scores = cross_val_score(lr, all_X, all_y, cv=10)\n",
    "print(scores)\n",
    "np.mean(scores)"
   ]
  },
  {
   "cell_type": "code",
   "execution_count": 0,
   "metadata": {
    "colab": {},
    "colab_type": "code",
    "id": "l-ihm-AWGqUT",
    "outputId": "269b339d-f29f-44b2-a981-4a4a6380957c"
   },
   "outputs": [
    {
     "name": "stderr",
     "output_type": "stream",
     "text": [
      "/Users/Sonia/anaconda3/envs/py37/lib/python3.7/site-packages/sklearn/linear_model/logistic.py:432: FutureWarning:\n",
      "\n",
      "Default solver will be changed to 'lbfgs' in 0.22. Specify a solver to silence this warning.\n",
      "\n"
     ]
    },
    {
     "data": {
      "image/png": "[encoded data removed]",
      "text/plain": [
       "<Figure size 432x288 with 1 Axes>"
      ]
     },
     "metadata": {
      "needs_background": "light",
      "tags": []
     },
     "output_type": "display_data"
    },
    {
     "name": "stdout",
     "output_type": "stream",
     "text": [
      "AUC-ROC : 0.7984508512033779\n"
     ]
    }
   ],
   "source": [
    "def plot_roc_curve(fpr, tpr):\n",
    "    plt.plot(fpr, tpr, color='orange', label='ROC')\n",
    "    plt.plot([0, 1], [0, 1], color='darkblue', linestyle='--')\n",
    "    plt.xlabel('False Positive Rate')\n",
    "    plt.ylabel('True Positive Rate')\n",
    "    plt.title('Receiver Operating Characteristic (ROC) Curve')\n",
    "    plt.legend()\n",
    "    plt.show()\n",
    "lr.fit(train_X, train_y)\n",
    "probs = lr.predict_proba(test_X)\n",
    "probs = probs[:, 1]\n",
    "auc = roc_auc_score(test_y, probs)\n",
    "fpr, tpr, thresholds = roc_curve(test_y, probs)\n",
    "plot_roc_curve(fpr, tpr)\n",
    "print(\"AUC-ROC :\",auc)"
   ]
  },
  {
   "cell_type": "markdown",
   "metadata": {},
   "source": [
    "The following cell prepares the test data by imputing null values with the median value."
   ]
  },
  {
   "cell_type": "code",
   "execution_count": 0,
   "metadata": {
    "colab": {},
    "colab_type": "code",
    "id": "rTHbMN96GqUU",
    "outputId": "fe4cd686-8d82-49f3-bf25-b50f12a939aa"
   },
   "outputs": [
    {
     "name": "stderr",
     "output_type": "stream",
     "text": [
      "/Users/Sonia/anaconda3/envs/py37/lib/python3.7/site-packages/pandas/core/generic.py:6287: SettingWithCopyWarning:\n",
      "\n",
      "\n",
      "A value is trying to be set on a copy of a slice from a DataFrame\n",
      "\n",
      "See the caveats in the documentation: http://pandas.pydata.org/pandas-docs/stable/user_guide/indexing.html#returning-a-view-versus-a-copy\n",
      "\n"
     ]
    },
    {
     "data": {
      "text/plain": [
       "gcs_eyes_apache     0\n",
       "intubated_apache    0\n",
       "temp_apache         0\n",
       "wbc_apache          0\n",
       "d1_spo2_min         0\n",
       "d1_diasbp_min       0\n",
       "d1_heartrate_max    0\n",
       "dtype: int64"
      ]
     },
     "execution_count": 31,
     "metadata": {
      "tags": []
     },
     "output_type": "execute_result"
    }
   ],
   "source": [
    "#processing unlabeled data and imputing median values in selected variables\n",
    "holdout = unlabeled_data\n",
    "holdout.head(5)\n",
    "\n",
    "impute_holdout = unlabeled_data[selected_variables]\n",
    "for variable in selected_variables:\n",
    "    median_variable = impute_holdout[variable].median()\n",
    "    impute_holdout[variable].fillna(median_variable, inplace=True)\n",
    "\n",
    "impute_holdout.isna().sum()\n",
    "#checks there are no more null values"
   ]
  },
  {
   "cell_type": "code",
   "execution_count": 0,
   "metadata": {
    "colab": {},
    "colab_type": "code",
    "id": "RcbeYSAAGqUW",
    "outputId": "3c9de9b7-89c0-49e8-e102-d5bb6a428cb4"
   },
   "outputs": [
    {
     "name": "stderr",
     "output_type": "stream",
     "text": [
      "/Users/Sonia/anaconda3/envs/py37/lib/python3.7/site-packages/sklearn/linear_model/logistic.py:432: FutureWarning:\n",
      "\n",
      "Default solver will be changed to 'lbfgs' in 0.22. Specify a solver to silence this warning.\n",
      "\n"
     ]
    },
    {
     "name": "stdout",
     "output_type": "stream",
     "text": [
      "deaths prediction: 1.69%\n"
     ]
    }
   ],
   "source": [
    "lr = LogisticRegression()\n",
    "lr.fit(all_X, all_y)\n",
    "holdout_predictions = lr.predict(impute_holdout[columns])\n",
    "print(\"deaths prediction: {:.2f}%\".format((sum(holdout_predictions)/len(holdout)*100)))"
   ]
  },
  {
   "cell_type": "markdown",
   "metadata": {},
   "source": [
    "The cell above runs the trained model on the test set and the cell below write it to a .csv file."
   ]
  },
  {
   "cell_type": "code",
   "execution_count": 0,
   "metadata": {
    "colab": {},
    "colab_type": "code",
    "id": "U96aNwe9GqUX",
    "outputId": "80dcdd71-d5b3-4a90-d91c-8c7699366a16"
   },
   "outputs": [
    {
     "data": {
      "text/html": [
       "<div>\n",
       "<style scoped>\n",
       "    .dataframe tbody tr th:only-of-type {\n",
       "        vertical-align: middle;\n",
       "    }\n",
       "\n",
       "    .dataframe tbody tr th {\n",
       "        vertical-align: top;\n",
       "    }\n",
       "\n",
       "    .dataframe thead th {\n",
       "        text-align: right;\n",
       "    }\n",
       "</style>\n",
       "<table border=\"1\" class=\"dataframe\">\n",
       "  <thead>\n",
       "    <tr style=\"text-align: right;\">\n",
       "      <th></th>\n",
       "      <th>encounter_id</th>\n",
       "      <th>hospital_death</th>\n",
       "    </tr>\n",
       "  </thead>\n",
       "  <tbody>\n",
       "    <tr>\n",
       "      <th>0</th>\n",
       "      <td>2</td>\n",
       "      <td>0.068022</td>\n",
       "    </tr>\n",
       "    <tr>\n",
       "      <th>1</th>\n",
       "      <td>5</td>\n",
       "      <td>0.041928</td>\n",
       "    </tr>\n",
       "    <tr>\n",
       "      <th>2</th>\n",
       "      <td>7</td>\n",
       "      <td>0.115114</td>\n",
       "    </tr>\n",
       "    <tr>\n",
       "      <th>3</th>\n",
       "      <td>8</td>\n",
       "      <td>0.067104</td>\n",
       "    </tr>\n",
       "    <tr>\n",
       "      <th>4</th>\n",
       "      <td>10</td>\n",
       "      <td>0.275193</td>\n",
       "    </tr>\n",
       "  </tbody>\n",
       "</table>\n",
       "</div>"
      ],
      "text/plain": [
       "   encounter_id  hospital_death\n",
       "0  2             0.068022      \n",
       "1  5             0.041928      \n",
       "2  7             0.115114      \n",
       "3  8             0.067104      \n",
       "4  10            0.275193      "
      ]
     },
     "execution_count": 33,
     "metadata": {
      "tags": []
     },
     "output_type": "execute_result"
    }
   ],
   "source": [
    "impute_holdout1 = impute_holdout.copy()\n",
    "probstest = lr.predict_proba(impute_holdout1)\n",
    "probstest = probstest[:, 1]\n",
    "holdout1 = holdout.copy()\n",
    "holdout1[\"hospital_death\"] = probstest\n",
    "\n",
    "submission = holdout1[[\"encounter_id\",\"hospital_death\"]]\n",
    "submission.to_csv('sjsu_wids_solutions.csv', index=False)\n",
    "submission.head()"
   ]
  }
 ],
 "metadata": {
  "colab": {
   "name": "wids2020.ipynb",
   "provenance": []
  },
  "kernelspec": {
   "display_name": "Python 3",
   "language": "python",
   "name": "python3"
  },
  "language_info": {
   "codemirror_mode": {
    "name": "ipython",
    "version": 3
   },
   "file_extension": ".py",
   "mimetype": "text/x-python",
   "name": "python",
   "nbconvert_exporter": "python",
   "pygments_lexer": "ipython3",
   "version": "3.7.5"
  }
 },
 "nbformat": 4,
 "nbformat_minor": 1
}
